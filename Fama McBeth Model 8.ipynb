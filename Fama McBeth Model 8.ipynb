{
 "cells": [
  {
   "cell_type": "code",
   "execution_count": 8,
   "metadata": {},
   "outputs": [],
   "source": [
    "import numpy as np\n",
    "import pandas as pd\n",
    "from pathlib import Path\n",
    "import os\n",
    "import pickle\n",
    "import matplotlib.pyplot as plt\n",
    "import statsmodels.api as sm"
   ]
  },
  {
   "cell_type": "code",
   "execution_count": 198,
   "metadata": {
    "scrolled": true
   },
   "outputs": [
    {
     "name": "stderr",
     "output_type": "stream",
     "text": [
      "/home/harshit/anaconda3/lib/python3.6/site-packages/pandas/core/frame.py:6211: FutureWarning: Sorting because non-concatenation axis is not aligned. A future version\n",
      "of pandas will change to not sort by default.\n",
      "\n",
      "To accept the future behavior, pass 'sort=False'.\n",
      "\n",
      "To retain the current behavior and silence the warning, pass 'sort=True'.\n",
      "\n",
      "  sort=sort)\n"
     ]
    }
   ],
   "source": [
    "mod_path=\"/home/harshit/Project/car_models/2013/\"\n",
    "lis = pd.DataFrame(os.listdir(mod_path))\n",
    "coeff = pd.DataFrame(columns = [\"Symbol\",\"const\",\"SMB %\", \"HML %\",\"Rm-Rf %\"] )\n",
    "#Making a dataframe of all coffecients\n",
    "for i in lis[0]:\n",
    "    data = open(mod_path+i,\"rb\")\n",
    "    symbol = i.split('.')[0]\n",
    "    model = pickle.load(data)\n",
    "    frame = pd.DataFrame(model.params).T\n",
    "    frame.insert(0,\"Symbol\",symbol)\n",
    "    coeff = coeff.append(frame,ignore_index=True)"
   ]
  },
  {
   "cell_type": "code",
   "execution_count": 199,
   "metadata": {
    "collapsed": true
   },
   "outputs": [],
   "source": [
    "# Making dataframe of Mean Returns\n",
    "ret_path = \"/home/harshit/Project/risk_free_ret/2013/\"\n",
    "lis = pd.DataFrame(os.listdir(ret_path))\n",
    "returns = pd.DataFrame(columns = [\"Symbol\",\"mean_ret\"])\n",
    "factors = pd.read_csv(\"/home/harshit/Project/allfactors.csv\")\n",
    "for i in lis[0]:\n",
    "    data = pd.read_csv(ret_path+i)\n",
    "    data_factors = pd.merge(data,factors,on=\"Date\")\n",
    "    symbol = i.split(\".\")[0]\n",
    "    mean = data_factors.Return.mean()\n",
    "    df = pd.DataFrame([[symbol,mean]],columns = [\"Symbol\",\"mean_ret\"])\n",
    "    returns = returns.append(df,ignore_index=True)\n",
    "    factor =data_factors[[\"SMB %\",\"HML %\",\"WML %\",\"Rm-Rf %\"]]\n",
    "    factors_mean = pd.DataFrame(factor.mean(),columns = [\"Mean\"])\n"
   ]
  },
  {
   "cell_type": "code",
   "execution_count": 200,
   "metadata": {
    "collapsed": true
   },
   "outputs": [],
   "source": [
    "all_data = pd.merge(returns,coeff,on=\"Symbol\", left_index=True, right_index=True) #dataframe of all mean returns and coeff"
   ]
  },
  {
   "cell_type": "code",
   "execution_count": 171,
   "metadata": {
    "collapsed": true
   },
   "outputs": [
    {
     "ename": "KeyError",
     "evalue": "\"['high-low'] not in index\"",
     "output_type": "error",
     "traceback": [
      "\u001b[0;31m---------------------------------------------------------------------------\u001b[0m",
      "\u001b[0;31mKeyError\u001b[0m                                  Traceback (most recent call last)",
      "\u001b[0;32m<ipython-input-171-49d2dd977c1a>\u001b[0m in \u001b[0;36m<module>\u001b[0;34m()\u001b[0m\n\u001b[0;32m----> 1\u001b[0;31m \u001b[0mX\u001b[0m \u001b[0;34m=\u001b[0m \u001b[0mall_data\u001b[0m\u001b[0;34m[\u001b[0m\u001b[0;34m[\u001b[0m\u001b[0;34m\"const\"\u001b[0m\u001b[0;34m,\u001b[0m\u001b[0;34m\"SMB %\"\u001b[0m\u001b[0;34m,\u001b[0m\u001b[0;34m\"HML %\"\u001b[0m\u001b[0;34m,\u001b[0m\u001b[0;34m\"WML %\"\u001b[0m\u001b[0;34m,\u001b[0m\u001b[0;34m\"Rm-Rf %\"\u001b[0m\u001b[0;34m,\u001b[0m\u001b[0;34m\"high-low\"\u001b[0m\u001b[0;34m]\u001b[0m\u001b[0;34m]\u001b[0m\u001b[0;34m\u001b[0m\u001b[0m\n\u001b[0m\u001b[1;32m      2\u001b[0m \u001b[0my\u001b[0m \u001b[0;34m=\u001b[0m \u001b[0mall_data\u001b[0m\u001b[0;34m[\u001b[0m\u001b[0;34m[\u001b[0m\u001b[0;34m\"mean_ret\"\u001b[0m\u001b[0;34m]\u001b[0m\u001b[0;34m]\u001b[0m\u001b[0;34m\u001b[0m\u001b[0m\n\u001b[1;32m      3\u001b[0m \u001b[0;34m\u001b[0m\u001b[0m\n\u001b[1;32m      4\u001b[0m \u001b[0mmodel1\u001b[0m \u001b[0;34m=\u001b[0m \u001b[0msm\u001b[0m\u001b[0;34m.\u001b[0m\u001b[0mOLS\u001b[0m\u001b[0;34m(\u001b[0m\u001b[0my\u001b[0m\u001b[0;34m,\u001b[0m\u001b[0mX\u001b[0m\u001b[0;34m)\u001b[0m\u001b[0;34m.\u001b[0m\u001b[0mfit\u001b[0m\u001b[0;34m(\u001b[0m\u001b[0;34m)\u001b[0m\u001b[0;34m\u001b[0m\u001b[0m\n",
      "\u001b[0;32m~/anaconda3/lib/python3.6/site-packages/pandas/core/frame.py\u001b[0m in \u001b[0;36m__getitem__\u001b[0;34m(self, key)\u001b[0m\n\u001b[1;32m   2680\u001b[0m         \u001b[0;32mif\u001b[0m \u001b[0misinstance\u001b[0m\u001b[0;34m(\u001b[0m\u001b[0mkey\u001b[0m\u001b[0;34m,\u001b[0m \u001b[0;34m(\u001b[0m\u001b[0mSeries\u001b[0m\u001b[0;34m,\u001b[0m \u001b[0mnp\u001b[0m\u001b[0;34m.\u001b[0m\u001b[0mndarray\u001b[0m\u001b[0;34m,\u001b[0m \u001b[0mIndex\u001b[0m\u001b[0;34m,\u001b[0m \u001b[0mlist\u001b[0m\u001b[0;34m)\u001b[0m\u001b[0;34m)\u001b[0m\u001b[0;34m:\u001b[0m\u001b[0;34m\u001b[0m\u001b[0m\n\u001b[1;32m   2681\u001b[0m             \u001b[0;31m# either boolean or fancy integer index\u001b[0m\u001b[0;34m\u001b[0m\u001b[0;34m\u001b[0m\u001b[0m\n\u001b[0;32m-> 2682\u001b[0;31m             \u001b[0;32mreturn\u001b[0m \u001b[0mself\u001b[0m\u001b[0;34m.\u001b[0m\u001b[0m_getitem_array\u001b[0m\u001b[0;34m(\u001b[0m\u001b[0mkey\u001b[0m\u001b[0;34m)\u001b[0m\u001b[0;34m\u001b[0m\u001b[0m\n\u001b[0m\u001b[1;32m   2683\u001b[0m         \u001b[0;32melif\u001b[0m \u001b[0misinstance\u001b[0m\u001b[0;34m(\u001b[0m\u001b[0mkey\u001b[0m\u001b[0;34m,\u001b[0m \u001b[0mDataFrame\u001b[0m\u001b[0;34m)\u001b[0m\u001b[0;34m:\u001b[0m\u001b[0;34m\u001b[0m\u001b[0m\n\u001b[1;32m   2684\u001b[0m             \u001b[0;32mreturn\u001b[0m \u001b[0mself\u001b[0m\u001b[0;34m.\u001b[0m\u001b[0m_getitem_frame\u001b[0m\u001b[0;34m(\u001b[0m\u001b[0mkey\u001b[0m\u001b[0;34m)\u001b[0m\u001b[0;34m\u001b[0m\u001b[0m\n",
      "\u001b[0;32m~/anaconda3/lib/python3.6/site-packages/pandas/core/frame.py\u001b[0m in \u001b[0;36m_getitem_array\u001b[0;34m(self, key)\u001b[0m\n\u001b[1;32m   2724\u001b[0m             \u001b[0;32mreturn\u001b[0m \u001b[0mself\u001b[0m\u001b[0;34m.\u001b[0m\u001b[0m_take\u001b[0m\u001b[0;34m(\u001b[0m\u001b[0mindexer\u001b[0m\u001b[0;34m,\u001b[0m \u001b[0maxis\u001b[0m\u001b[0;34m=\u001b[0m\u001b[0;36m0\u001b[0m\u001b[0;34m)\u001b[0m\u001b[0;34m\u001b[0m\u001b[0m\n\u001b[1;32m   2725\u001b[0m         \u001b[0;32melse\u001b[0m\u001b[0;34m:\u001b[0m\u001b[0;34m\u001b[0m\u001b[0m\n\u001b[0;32m-> 2726\u001b[0;31m             \u001b[0mindexer\u001b[0m \u001b[0;34m=\u001b[0m \u001b[0mself\u001b[0m\u001b[0;34m.\u001b[0m\u001b[0mloc\u001b[0m\u001b[0;34m.\u001b[0m\u001b[0m_convert_to_indexer\u001b[0m\u001b[0;34m(\u001b[0m\u001b[0mkey\u001b[0m\u001b[0;34m,\u001b[0m \u001b[0maxis\u001b[0m\u001b[0;34m=\u001b[0m\u001b[0;36m1\u001b[0m\u001b[0;34m)\u001b[0m\u001b[0;34m\u001b[0m\u001b[0m\n\u001b[0m\u001b[1;32m   2727\u001b[0m             \u001b[0;32mreturn\u001b[0m \u001b[0mself\u001b[0m\u001b[0;34m.\u001b[0m\u001b[0m_take\u001b[0m\u001b[0;34m(\u001b[0m\u001b[0mindexer\u001b[0m\u001b[0;34m,\u001b[0m \u001b[0maxis\u001b[0m\u001b[0;34m=\u001b[0m\u001b[0;36m1\u001b[0m\u001b[0;34m)\u001b[0m\u001b[0;34m\u001b[0m\u001b[0m\n\u001b[1;32m   2728\u001b[0m \u001b[0;34m\u001b[0m\u001b[0m\n",
      "\u001b[0;32m~/anaconda3/lib/python3.6/site-packages/pandas/core/indexing.py\u001b[0m in \u001b[0;36m_convert_to_indexer\u001b[0;34m(self, obj, axis, is_setter)\u001b[0m\n\u001b[1;32m   1325\u001b[0m                 \u001b[0;32mif\u001b[0m \u001b[0mmask\u001b[0m\u001b[0;34m.\u001b[0m\u001b[0many\u001b[0m\u001b[0;34m(\u001b[0m\u001b[0;34m)\u001b[0m\u001b[0;34m:\u001b[0m\u001b[0;34m\u001b[0m\u001b[0m\n\u001b[1;32m   1326\u001b[0m                     raise KeyError('{mask} not in index'\n\u001b[0;32m-> 1327\u001b[0;31m                                    .format(mask=objarr[mask]))\n\u001b[0m\u001b[1;32m   1328\u001b[0m \u001b[0;34m\u001b[0m\u001b[0m\n\u001b[1;32m   1329\u001b[0m                 \u001b[0;32mreturn\u001b[0m \u001b[0mcom\u001b[0m\u001b[0;34m.\u001b[0m\u001b[0m_values_from_object\u001b[0m\u001b[0;34m(\u001b[0m\u001b[0mindexer\u001b[0m\u001b[0;34m)\u001b[0m\u001b[0;34m\u001b[0m\u001b[0m\n",
      "\u001b[0;31mKeyError\u001b[0m: \"['high-low'] not in index\""
     ]
    }
   ],
   "source": [
    "X = all_data[[\"const\",\"SMB %\",\"HML %\",\"WML %\",\"Rm-Rf %\",\"high-low\"]]\n",
    "y = all_data[[\"mean_ret\"]]\n",
    "\n",
    "model1 = sm.OLS(y,X).fit()"
   ]
  },
  {
   "cell_type": "code",
   "execution_count": 55,
   "metadata": {
    "collapsed": true
   },
   "outputs": [],
   "source": [
    "X = all_data[[\"const\",\"Rm-Rf %\"]]\n",
    "y = all_data[[\"mean_ret\"]]\n",
    "\n",
    "model2 = sm.OLS(y,X).fit()"
   ]
  },
  {
   "cell_type": "code",
   "execution_count": 56,
   "metadata": {
    "collapsed": true
   },
   "outputs": [],
   "source": [
    "X = all_data[[\"const\",\"high-low\"]]\n",
    "y = all_data[[\"mean_ret\"]]\n",
    "\n",
    "model3 = sm.OLS(y,X).fit()"
   ]
  },
  {
   "cell_type": "code",
   "execution_count": 201,
   "metadata": {
    "collapsed": true
   },
   "outputs": [],
   "source": [
    "X = all_data[[\"SMB %\",\"HML %\",\"WML %\",\"Rm-Rf %\"]]\n",
    "y = all_data[[\"mean_ret\"]]\n",
    "\n",
    "model4 = sm.OLS(y,X).fit()"
   ]
  },
  {
   "cell_type": "code",
   "execution_count": 202,
   "metadata": {
    "collapsed": true
   },
   "outputs": [],
   "source": [
    "model_values = pd.DataFrame(model4.params,columns=[\"Model\"]) #comparing means to regression coeffecients\n",
    "factors_mean.rename(columns={'Mean':\"Actual\"}, inplace=True)\n",
    "comparison=pd.merge(model_values,factors_mean,left_index=True,right_index=True)\n",
    "comparison[\"%diff\"]=(comparison[\"Actual\"]-comparison[\"Model\"])*100/comparison[\"Actual\"]\n",
    "#comparison[\"t-stat\"]=abs((comparison[\"Actual\"]-comparison[\"Model\"])*np.sqrt(5)/comparison[\"Model\"].std())\n",
    "#this formula is wrong, we have only one value of t-stat per variable and not YoY values, correct formula will have\n",
    "#mean of annual values in the numerator\n",
    "comparison.to_csv(\"/home/harshit/Project/fama_mcbeth/\"+\"2013.csv\")"
   ]
  },
  {
   "cell_type": "code",
   "execution_count": 203,
   "metadata": {},
   "outputs": [
    {
     "data": {
      "text/html": [
       "<div>\n",
       "<style scoped>\n",
       "    .dataframe tbody tr th:only-of-type {\n",
       "        vertical-align: middle;\n",
       "    }\n",
       "\n",
       "    .dataframe tbody tr th {\n",
       "        vertical-align: top;\n",
       "    }\n",
       "\n",
       "    .dataframe thead th {\n",
       "        text-align: right;\n",
       "    }\n",
       "</style>\n",
       "<table border=\"1\" class=\"dataframe\">\n",
       "  <thead>\n",
       "    <tr style=\"text-align: right;\">\n",
       "      <th></th>\n",
       "      <th>Model</th>\n",
       "      <th>Actual</th>\n",
       "      <th>%diff</th>\n",
       "    </tr>\n",
       "  </thead>\n",
       "  <tbody>\n",
       "    <tr>\n",
       "      <th>SMB %</th>\n",
       "      <td>0.042250</td>\n",
       "      <td>-0.083088</td>\n",
       "      <td>150.849701</td>\n",
       "    </tr>\n",
       "    <tr>\n",
       "      <th>HML %</th>\n",
       "      <td>-0.056243</td>\n",
       "      <td>0.056547</td>\n",
       "      <td>199.462870</td>\n",
       "    </tr>\n",
       "    <tr>\n",
       "      <th>WML %</th>\n",
       "      <td>-0.035815</td>\n",
       "      <td>0.109833</td>\n",
       "      <td>132.608516</td>\n",
       "    </tr>\n",
       "    <tr>\n",
       "      <th>Rm-Rf %</th>\n",
       "      <td>-0.009123</td>\n",
       "      <td>-0.023308</td>\n",
       "      <td>60.859297</td>\n",
       "    </tr>\n",
       "  </tbody>\n",
       "</table>\n",
       "</div>"
      ],
      "text/plain": [
       "            Model    Actual       %diff\n",
       "SMB %    0.042250 -0.083088  150.849701\n",
       "HML %   -0.056243  0.056547  199.462870\n",
       "WML %   -0.035815  0.109833  132.608516\n",
       "Rm-Rf % -0.009123 -0.023308   60.859297"
      ]
     },
     "execution_count": 203,
     "metadata": {},
     "output_type": "execute_result"
    }
   ],
   "source": [
    "comparison"
   ]
  },
  {
   "cell_type": "code",
   "execution_count": 205,
   "metadata": {},
   "outputs": [],
   "source": [
    "a = pd.read_csv(\"/home/harshit/Project/fama_mcbeth/2013.csv\",index_col=0).drop([\"%diff\"],axis=1)\n",
    "a_model=pd.DataFrame(a[\"Model\"]).transpose()\n",
    "a_act=pd.DataFrame(a[\"Actual\"]).transpose()\n",
    "b = pd.read_csv(\"/home/harshit/Project/fama_mcbeth/2014.csv\",index_col=0).drop([\"%diff\"],axis=1)\n",
    "b_model = pd.DataFrame(b[\"Model\"]).transpose()\n",
    "b_act=pd.DataFrame(b[\"Actual\"]).transpose()\n",
    "c = pd.read_csv(\"/home/harshit/Project/fama_mcbeth/2015.csv\",index_col=0).drop([\"%diff\"],axis=1)\n",
    "c_model = pd.DataFrame(c[\"Model\"]).transpose()\n",
    "c_act=pd.DataFrame(c[\"Actual\"]).transpose()\n",
    "d = pd.read_csv(\"/home/harshit/Project/fama_mcbeth/2016.csv\",index_col=0).drop([\"%diff\"],axis=1)\n",
    "d_model=pd.DataFrame(d[\"Model\"]).transpose()\n",
    "d_act=pd.DataFrame(d[\"Actual\"]).transpose()\n",
    "e = pd.read_csv(\"/home/harshit/Project/fama_mcbeth/2017.csv\",index_col=0).drop([\"%diff\"],axis=1)\n",
    "e_model= pd.DataFrame(e[\"Model\"]).transpose()\n",
    "e_act=pd.DataFrame(e[\"Actual\"]).transpose()\n",
    "model = a_model.append(b_model).append(c_model).append(d_model).append(e_model)\n",
    "actual= a_act.append(b_act).append(c_act).append(d_act).append(e_act)\n",
    "#pd.DataFrame(all_years.abs().mean(axis=1),columns=[\"Mean t-stat\"])"
   ]
  },
  {
   "cell_type": "code",
   "execution_count": 207,
   "metadata": {
    "scrolled": true
   },
   "outputs": [
    {
     "ename": "SyntaxError",
     "evalue": "can't assign to operator (<ipython-input-207-88707318f642>, line 1)",
     "output_type": "error",
     "traceback": [
      "\u001b[0;36m  File \u001b[0;32m\"<ipython-input-207-88707318f642>\"\u001b[0;36m, line \u001b[0;32m1\u001b[0m\n\u001b[0;31m    t-stat=abs((pd.DataFrame(np.mean(actual,axis=0))-pd.DataFrame(np.mean(model,axis=0)))*np.sqrt(5)/comparison[\"Model\"].std())\u001b[0m\n\u001b[0m                                                                                                                               ^\u001b[0m\n\u001b[0;31mSyntaxError\u001b[0m\u001b[0;31m:\u001b[0m can't assign to operator\n"
     ]
    }
   ],
   "source": [
    "t-stat=abs((pd.DataFrame(np.mean(actual,axis=0))-pd.DataFrame(np.mean(model,axis=0)))*np.sqrt(5)/comparison[\"Model\"].std())"
   ]
  },
  {
   "cell_type": "code",
   "execution_count": 208,
   "metadata": {},
   "outputs": [
    {
     "data": {
      "text/html": [
       "<div>\n",
       "<style scoped>\n",
       "    .dataframe tbody tr th:only-of-type {\n",
       "        vertical-align: middle;\n",
       "    }\n",
       "\n",
       "    .dataframe tbody tr th {\n",
       "        vertical-align: top;\n",
       "    }\n",
       "\n",
       "    .dataframe thead th {\n",
       "        text-align: right;\n",
       "    }\n",
       "</style>\n",
       "<table border=\"1\" class=\"dataframe\">\n",
       "  <thead>\n",
       "    <tr style=\"text-align: right;\">\n",
       "      <th></th>\n",
       "      <th>0</th>\n",
       "    </tr>\n",
       "  </thead>\n",
       "  <tbody>\n",
       "    <tr>\n",
       "      <th>SMB %</th>\n",
       "      <td>0.410164</td>\n",
       "    </tr>\n",
       "    <tr>\n",
       "      <th>HML %</th>\n",
       "      <td>0.709808</td>\n",
       "    </tr>\n",
       "    <tr>\n",
       "      <th>WML %</th>\n",
       "      <td>0.895592</td>\n",
       "    </tr>\n",
       "    <tr>\n",
       "      <th>Rm-Rf %</th>\n",
       "      <td>2.151155</td>\n",
       "    </tr>\n",
       "  </tbody>\n",
       "</table>\n",
       "</div>"
      ],
      "text/plain": [
       "                0\n",
       "SMB %    0.410164\n",
       "HML %    0.709808\n",
       "WML %    0.895592\n",
       "Rm-Rf %  2.151155"
      ]
     },
     "execution_count": 208,
     "metadata": {},
     "output_type": "execute_result"
    }
   ],
   "source": [
    "abs(pd.DataFrame(np.mean(actual,axis=0))- pd.DataFrame(np.mean(model,axis=0)))*np.sqrt(5)/pd.DataFrame(model.std())"
   ]
  },
  {
   "cell_type": "code",
   "execution_count": 157,
   "metadata": {},
   "outputs": [
    {
     "data": {
      "text/html": [
       "<div>\n",
       "<style scoped>\n",
       "    .dataframe tbody tr th:only-of-type {\n",
       "        vertical-align: middle;\n",
       "    }\n",
       "\n",
       "    .dataframe tbody tr th {\n",
       "        vertical-align: top;\n",
       "    }\n",
       "\n",
       "    .dataframe thead th {\n",
       "        text-align: right;\n",
       "    }\n",
       "</style>\n",
       "<table border=\"1\" class=\"dataframe\">\n",
       "  <thead>\n",
       "    <tr style=\"text-align: right;\">\n",
       "      <th></th>\n",
       "      <th>0</th>\n",
       "    </tr>\n",
       "  </thead>\n",
       "  <tbody>\n",
       "    <tr>\n",
       "      <th>SMB %</th>\n",
       "      <td>0.072209</td>\n",
       "    </tr>\n",
       "    <tr>\n",
       "      <th>HML %</th>\n",
       "      <td>0.134994</td>\n",
       "    </tr>\n",
       "    <tr>\n",
       "      <th>WML %</th>\n",
       "      <td>0.072226</td>\n",
       "    </tr>\n",
       "    <tr>\n",
       "      <th>Rm-Rf %</th>\n",
       "      <td>0.086815</td>\n",
       "    </tr>\n",
       "    <tr>\n",
       "      <th>high-low</th>\n",
       "      <td>0.271619</td>\n",
       "    </tr>\n",
       "  </tbody>\n",
       "</table>\n",
       "</div>"
      ],
      "text/plain": [
       "                 0\n",
       "SMB %     0.072209\n",
       "HML %     0.134994\n",
       "WML %     0.072226\n",
       "Rm-Rf %   0.086815\n",
       "high-low  0.271619"
      ]
     },
     "execution_count": 157,
     "metadata": {},
     "output_type": "execute_result"
    }
   ],
   "source": [
    "pd.DataFrame(model.std())"
   ]
  },
  {
   "cell_type": "markdown",
   "metadata": {},
   "source": []
  }
 ],
 "metadata": {
  "kernelspec": {
   "display_name": "Python 3",
   "language": "python",
   "name": "python3"
  },
  "language_info": {
   "codemirror_mode": {
    "name": "ipython",
    "version": 3
   },
   "file_extension": ".py",
   "mimetype": "text/x-python",
   "name": "python",
   "nbconvert_exporter": "python",
   "pygments_lexer": "ipython3",
   "version": "3.6.6"
  }
 },
 "nbformat": 4,
 "nbformat_minor": 2
}
