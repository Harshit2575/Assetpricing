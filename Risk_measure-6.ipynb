{
 "cells": [
  {
   "cell_type": "code",
   "execution_count": 1,
   "metadata": {},
   "outputs": [
    {
     "name": "stderr",
     "output_type": "stream",
     "text": [
      "/home/harshit/anaconda3/lib/python3.6/site-packages/statsmodels/compat/pandas.py:56: FutureWarning: The pandas.core.datetools module is deprecated and will be removed in a future version. Please use the pandas.tseries module instead.\n",
      "  from pandas.core import datetools\n"
     ]
    }
   ],
   "source": [
    "import pandas as pd\n",
    "import numpy as np\n",
    "from pathlib import Path\n",
    "from os import listdir\n",
    "import statsmodels.api as sm"
   ]
  },
  {
   "cell_type": "code",
   "execution_count": 90,
   "metadata": {
    "collapsed": true,
    "scrolled": true
   },
   "outputs": [],
   "source": [
    "#path = \"/home/harshit/Project/Returns/2017/\"\n",
    "#entropy=pd.read_csv(path+\"continuous_entropy.csv\")"
   ]
  },
  {
   "cell_type": "code",
   "execution_count": 3,
   "metadata": {
    "collapsed": true
   },
   "outputs": [],
   "source": [
    "path = \"/home/harshit/Project/2017/\"\n",
    "entropy=pd.read_csv(path+\"entropy.csv\")"
   ]
  },
  {
   "cell_type": "code",
   "execution_count": 4,
   "metadata": {
    "collapsed": true
   },
   "outputs": [],
   "source": [
    "entropy[\"ent_risk\"] = np.exp(entropy[\"Entropy\"])"
   ]
  },
  {
   "cell_type": "code",
   "execution_count": 5,
   "metadata": {
    "collapsed": true
   },
   "outputs": [],
   "source": [
    "data_path = \"/home/harshit/Project/2017/\"              # finding annual returns of all companies\n",
    "lis = pd.DataFrame(listdir(data_path),columns = [\"Symbol\"])\n",
    "df = pd.DataFrame(columns=[\"Symbol\",\"ann_return\"])\n",
    "\n",
    "for i in (lis[\"Symbol\"]):            \n",
    "    if i == \"renyi_entropy.csv\": continue\n",
    "    if i == \"entropy.csv\": continue\n",
    "    data = pd.read_csv(data_path+i)\n",
    "    name = i.split('.')[0]\n",
    "    last = data.iloc[-1][name]\n",
    "    first= data.iloc[0][name]\n",
    "    ann_ret = (last-first)*100/first\n",
    "    df2=pd.DataFrame([[name, ann_ret]],columns=[\"Symbol\",\"ann_return\"])\n",
    "    df = df.append(df2,ignore_index=True) # a frame having annual returns of all firms\n",
    "\n",
    "combined = pd.merge(df,entropy,on='Symbol')"
   ]
  },
  {
   "cell_type": "code",
   "execution_count": 28,
   "metadata": {
    "scrolled": true
   },
   "outputs": [],
   "source": [
    "#Using co-variance to find beta_risk measure and finding standard deviation of annual returns of firms\n",
    "factors = pd.read_csv(\"/home/harshit/Project/Returns/averages/FourFactors.csv\")\n",
    "\n",
    "eq_path = \"/home/harshit/Project/Returns/2017/\"\n",
    "lis = pd.DataFrame(listdir(eq_path),columns = [\"Symbol\"])    \n",
    "df = pd.DataFrame(columns=[\"Symbol\",\"beta_risk\"])\n",
    "df4 = pd.DataFrame(columns=[\"Symbol\",\"std_risk\"])\n",
    "for i in (lis[\"Symbol\"]):\n",
    "    if i == \"continuous_renyi_entropy.csv\": continue\n",
    "    if i == \"continuous_entropy.csv\": continue\n",
    "    equity = pd.read_csv(eq_path+i)\n",
    "    name = i.split(\".\")[0]\n",
    "    equity=equity.drop([0])\n",
    "    equity = pd.merge(factors,equity,on=\"Date\")\n",
    "    equity[\"R-Rf %\"] = equity[\"Return\"] - equity[\"Rf %\"]\n",
    "#beta risk = cov(rm-rf,r-rf)/var(rm-rf)\n",
    "\n",
    "    cov = np.sum((equity[\"R-Rf %\"]-np.mean(equity[\"R-Rf %\"]))*((equity[\"Rm-Rf %\"]-np.mean(equity[\"Rm-Rf %\"]))))/len(equity)\n",
    "    var = np.sum((equity[\"Rm-Rf %\"]-np.mean(equity[\"Rm-Rf %\"]))**2)/len(equity)\n",
    "    beta_risk = cov/var\n",
    "    std = np.std(equity[\"R-Rf %\"])\n",
    "    df2 = pd.DataFrame([[name,beta_risk]],columns=[\"Symbol\",\"beta_risk\"])\n",
    "    df = df.append(df2,ignore_index=True)\n",
    "    df3 = pd.DataFrame([[name,std]],columns=[\"Symbol\",\"std_risk\"])\n",
    "    df4 = df4.append(df3,ignore_index=True)\n",
    "\n",
    "data = pd.merge(combined,df,on=\"Symbol\")\n",
    "all_data= pd.merge(data,df4,on=\"Symbol\")"
   ]
  },
  {
   "cell_type": "code",
   "execution_count": 14,
   "metadata": {
    "collapsed": true
   },
   "outputs": [],
   "source": [
    "X1 = all_data[[\"beta_risk\"]]\n",
    "X1 = sm.add_constant(X1)\n",
    "y = all_data[[\"ann_return\"]]\n",
    "model1 = sm.OLS(y,X1,hasconst=True).fit()"
   ]
  },
  {
   "cell_type": "code",
   "execution_count": 10,
   "metadata": {
    "collapsed": true,
    "scrolled": true
   },
   "outputs": [],
   "source": [
    "X2 = all_data[[\"ent_risk\"]]\n",
    "X2 = sm.add_constant(X2)\n",
    "y = all_data[[\"ann_return\"]]\n",
    "model2 = sm.OLS(y,X2,hasconst=True).fit()"
   ]
  },
  {
   "cell_type": "code",
   "execution_count": 30,
   "metadata": {},
   "outputs": [],
   "source": [
    "X1 = all_data[[\"std_risk\"]]\n",
    "X1 = sm.add_constant(X1)\n",
    "y = all_data[[\"ann_return\"]]\n",
    "model3 = sm.OLS(y,X1,hasconst=True).fit()"
   ]
  },
  {
   "cell_type": "code",
   "execution_count": 31,
   "metadata": {},
   "outputs": [
    {
     "data": {
      "text/html": [
       "<table class=\"simpletable\">\n",
       "<caption>OLS Regression Results</caption>\n",
       "<tr>\n",
       "  <th>Dep. Variable:</th>       <td>ann_return</td>    <th>  R-squared:         </th> <td>   0.064</td> \n",
       "</tr>\n",
       "<tr>\n",
       "  <th>Model:</th>                   <td>OLS</td>       <th>  Adj. R-squared:    </th> <td>   0.063</td> \n",
       "</tr>\n",
       "<tr>\n",
       "  <th>Method:</th>             <td>Least Squares</td>  <th>  F-statistic:       </th> <td>   76.71</td> \n",
       "</tr>\n",
       "<tr>\n",
       "  <th>Date:</th>             <td>Thu, 22 Nov 2018</td> <th>  Prob (F-statistic):</th> <td>7.10e-18</td> \n",
       "</tr>\n",
       "<tr>\n",
       "  <th>Time:</th>                 <td>07:49:07</td>     <th>  Log-Likelihood:    </th> <td> -6683.2</td> \n",
       "</tr>\n",
       "<tr>\n",
       "  <th>No. Observations:</th>      <td>  1133</td>      <th>  AIC:               </th> <td>1.337e+04</td>\n",
       "</tr>\n",
       "<tr>\n",
       "  <th>Df Residuals:</th>          <td>  1131</td>      <th>  BIC:               </th> <td>1.338e+04</td>\n",
       "</tr>\n",
       "<tr>\n",
       "  <th>Df Model:</th>              <td>     1</td>      <th>                     </th>     <td> </td>    \n",
       "</tr>\n",
       "<tr>\n",
       "  <th>Covariance Type:</th>      <td>nonrobust</td>    <th>                     </th>     <td> </td>    \n",
       "</tr>\n",
       "</table>\n",
       "<table class=\"simpletable\">\n",
       "<tr>\n",
       "      <td></td>         <th>coef</th>     <th>std err</th>      <th>t</th>      <th>P>|t|</th>  <th>[0.025</th>    <th>0.975]</th>  \n",
       "</tr>\n",
       "<tr>\n",
       "  <th>const</th>     <td>    5.4116</td> <td>    6.337</td> <td>    0.854</td> <td> 0.393</td> <td>   -7.021</td> <td>   17.844</td>\n",
       "</tr>\n",
       "<tr>\n",
       "  <th>beta_risk</th> <td>  -40.4189</td> <td>    4.615</td> <td>   -8.759</td> <td> 0.000</td> <td>  -49.473</td> <td>  -31.364</td>\n",
       "</tr>\n",
       "</table>\n",
       "<table class=\"simpletable\">\n",
       "<tr>\n",
       "  <th>Omnibus:</th>       <td>1287.079</td> <th>  Durbin-Watson:     </th>  <td>   2.090</td> \n",
       "</tr>\n",
       "<tr>\n",
       "  <th>Prob(Omnibus):</th>  <td> 0.000</td>  <th>  Jarque-Bera (JB):  </th> <td>186979.096</td>\n",
       "</tr>\n",
       "<tr>\n",
       "  <th>Skew:</th>           <td> 5.398</td>  <th>  Prob(JB):          </th>  <td>    0.00</td> \n",
       "</tr>\n",
       "<tr>\n",
       "  <th>Kurtosis:</th>       <td>65.001</td>  <th>  Cond. No.          </th>  <td>    4.87</td> \n",
       "</tr>\n",
       "</table>"
      ],
      "text/plain": [
       "<class 'statsmodels.iolib.summary.Summary'>\n",
       "\"\"\"\n",
       "                            OLS Regression Results                            \n",
       "==============================================================================\n",
       "Dep. Variable:             ann_return   R-squared:                       0.064\n",
       "Model:                            OLS   Adj. R-squared:                  0.063\n",
       "Method:                 Least Squares   F-statistic:                     76.71\n",
       "Date:                Thu, 22 Nov 2018   Prob (F-statistic):           7.10e-18\n",
       "Time:                        07:49:07   Log-Likelihood:                -6683.2\n",
       "No. Observations:                1133   AIC:                         1.337e+04\n",
       "Df Residuals:                    1131   BIC:                         1.338e+04\n",
       "Df Model:                           1                                         \n",
       "Covariance Type:            nonrobust                                         \n",
       "==============================================================================\n",
       "                 coef    std err          t      P>|t|      [0.025      0.975]\n",
       "------------------------------------------------------------------------------\n",
       "const          5.4116      6.337      0.854      0.393      -7.021      17.844\n",
       "beta_risk    -40.4189      4.615     -8.759      0.000     -49.473     -31.364\n",
       "==============================================================================\n",
       "Omnibus:                     1287.079   Durbin-Watson:                   2.090\n",
       "Prob(Omnibus):                  0.000   Jarque-Bera (JB):           186979.096\n",
       "Skew:                           5.398   Prob(JB):                         0.00\n",
       "Kurtosis:                      65.001   Cond. No.                         4.87\n",
       "==============================================================================\n",
       "\n",
       "Warnings:\n",
       "[1] Standard Errors assume that the covariance matrix of the errors is correctly specified.\n",
       "\"\"\""
      ]
     },
     "execution_count": 31,
     "metadata": {},
     "output_type": "execute_result"
    }
   ],
   "source": [
    "model1.summary()"
   ]
  },
  {
   "cell_type": "code",
   "execution_count": 32,
   "metadata": {},
   "outputs": [
    {
     "data": {
      "text/html": [
       "<table class=\"simpletable\">\n",
       "<caption>OLS Regression Results</caption>\n",
       "<tr>\n",
       "  <th>Dep. Variable:</th>       <td>ann_return</td>    <th>  R-squared:         </th> <td>   0.017</td> \n",
       "</tr>\n",
       "<tr>\n",
       "  <th>Model:</th>                   <td>OLS</td>       <th>  Adj. R-squared:    </th> <td>   0.016</td> \n",
       "</tr>\n",
       "<tr>\n",
       "  <th>Method:</th>             <td>Least Squares</td>  <th>  F-statistic:       </th> <td>   19.20</td> \n",
       "</tr>\n",
       "<tr>\n",
       "  <th>Date:</th>             <td>Thu, 22 Nov 2018</td> <th>  Prob (F-statistic):</th> <td>1.29e-05</td> \n",
       "</tr>\n",
       "<tr>\n",
       "  <th>Time:</th>                 <td>07:49:15</td>     <th>  Log-Likelihood:    </th> <td> -6710.8</td> \n",
       "</tr>\n",
       "<tr>\n",
       "  <th>No. Observations:</th>      <td>  1133</td>      <th>  AIC:               </th> <td>1.343e+04</td>\n",
       "</tr>\n",
       "<tr>\n",
       "  <th>Df Residuals:</th>          <td>  1131</td>      <th>  BIC:               </th> <td>1.344e+04</td>\n",
       "</tr>\n",
       "<tr>\n",
       "  <th>Df Model:</th>              <td>     1</td>      <th>                     </th>     <td> </td>    \n",
       "</tr>\n",
       "<tr>\n",
       "  <th>Covariance Type:</th>      <td>nonrobust</td>    <th>                     </th>     <td> </td>    \n",
       "</tr>\n",
       "</table>\n",
       "<table class=\"simpletable\">\n",
       "<tr>\n",
       "      <td></td>        <th>coef</th>     <th>std err</th>      <th>t</th>      <th>P>|t|</th>  <th>[0.025</th>    <th>0.975]</th>  \n",
       "</tr>\n",
       "<tr>\n",
       "  <th>const</th>    <td>   47.1851</td> <td>    3.348</td> <td>   14.093</td> <td> 0.000</td> <td>   40.616</td> <td>   53.754</td>\n",
       "</tr>\n",
       "<tr>\n",
       "  <th>ent_risk</th> <td>    0.5037</td> <td>    0.115</td> <td>    4.381</td> <td> 0.000</td> <td>    0.278</td> <td>    0.729</td>\n",
       "</tr>\n",
       "</table>\n",
       "<table class=\"simpletable\">\n",
       "<tr>\n",
       "  <th>Omnibus:</th>       <td>1262.014</td> <th>  Durbin-Watson:     </th>  <td>   2.086</td> \n",
       "</tr>\n",
       "<tr>\n",
       "  <th>Prob(Omnibus):</th>  <td> 0.000</td>  <th>  Jarque-Bera (JB):  </th> <td>166468.991</td>\n",
       "</tr>\n",
       "<tr>\n",
       "  <th>Skew:</th>           <td> 5.246</td>  <th>  Prob(JB):          </th>  <td>    0.00</td> \n",
       "</tr>\n",
       "<tr>\n",
       "  <th>Kurtosis:</th>       <td>61.448</td>  <th>  Cond. No.          </th>  <td>    36.3</td> \n",
       "</tr>\n",
       "</table>"
      ],
      "text/plain": [
       "<class 'statsmodels.iolib.summary.Summary'>\n",
       "\"\"\"\n",
       "                            OLS Regression Results                            \n",
       "==============================================================================\n",
       "Dep. Variable:             ann_return   R-squared:                       0.017\n",
       "Model:                            OLS   Adj. R-squared:                  0.016\n",
       "Method:                 Least Squares   F-statistic:                     19.20\n",
       "Date:                Thu, 22 Nov 2018   Prob (F-statistic):           1.29e-05\n",
       "Time:                        07:49:15   Log-Likelihood:                -6710.8\n",
       "No. Observations:                1133   AIC:                         1.343e+04\n",
       "Df Residuals:                    1131   BIC:                         1.344e+04\n",
       "Df Model:                           1                                         \n",
       "Covariance Type:            nonrobust                                         \n",
       "==============================================================================\n",
       "                 coef    std err          t      P>|t|      [0.025      0.975]\n",
       "------------------------------------------------------------------------------\n",
       "const         47.1851      3.348     14.093      0.000      40.616      53.754\n",
       "ent_risk       0.5037      0.115      4.381      0.000       0.278       0.729\n",
       "==============================================================================\n",
       "Omnibus:                     1262.014   Durbin-Watson:                   2.086\n",
       "Prob(Omnibus):                  0.000   Jarque-Bera (JB):           166468.991\n",
       "Skew:                           5.246   Prob(JB):                         0.00\n",
       "Kurtosis:                      61.448   Cond. No.                         36.3\n",
       "==============================================================================\n",
       "\n",
       "Warnings:\n",
       "[1] Standard Errors assume that the covariance matrix of the errors is correctly specified.\n",
       "\"\"\""
      ]
     },
     "execution_count": 32,
     "metadata": {},
     "output_type": "execute_result"
    }
   ],
   "source": [
    "model2.summary()"
   ]
  },
  {
   "cell_type": "code",
   "execution_count": 33,
   "metadata": {},
   "outputs": [
    {
     "data": {
      "text/html": [
       "<table class=\"simpletable\">\n",
       "<caption>OLS Regression Results</caption>\n",
       "<tr>\n",
       "  <th>Dep. Variable:</th>       <td>ann_return</td>    <th>  R-squared:         </th> <td>   0.002</td> \n",
       "</tr>\n",
       "<tr>\n",
       "  <th>Model:</th>                   <td>OLS</td>       <th>  Adj. R-squared:    </th> <td>   0.002</td> \n",
       "</tr>\n",
       "<tr>\n",
       "  <th>Method:</th>             <td>Least Squares</td>  <th>  F-statistic:       </th> <td>   2.800</td> \n",
       "</tr>\n",
       "<tr>\n",
       "  <th>Date:</th>             <td>Thu, 22 Nov 2018</td> <th>  Prob (F-statistic):</th>  <td>0.0946</td>  \n",
       "</tr>\n",
       "<tr>\n",
       "  <th>Time:</th>                 <td>07:49:28</td>     <th>  Log-Likelihood:    </th> <td> -6718.9</td> \n",
       "</tr>\n",
       "<tr>\n",
       "  <th>No. Observations:</th>      <td>  1133</td>      <th>  AIC:               </th> <td>1.344e+04</td>\n",
       "</tr>\n",
       "<tr>\n",
       "  <th>Df Residuals:</th>          <td>  1131</td>      <th>  BIC:               </th> <td>1.345e+04</td>\n",
       "</tr>\n",
       "<tr>\n",
       "  <th>Df Model:</th>              <td>     1</td>      <th>                     </th>     <td> </td>    \n",
       "</tr>\n",
       "<tr>\n",
       "  <th>Covariance Type:</th>      <td>nonrobust</td>    <th>                     </th>     <td> </td>    \n",
       "</tr>\n",
       "</table>\n",
       "<table class=\"simpletable\">\n",
       "<tr>\n",
       "      <td></td>        <th>coef</th>     <th>std err</th>      <th>t</th>      <th>P>|t|</th>  <th>[0.025</th>    <th>0.975]</th>  \n",
       "</tr>\n",
       "<tr>\n",
       "  <th>const</th>    <td>   53.0247</td> <td>    3.217</td> <td>   16.482</td> <td> 0.000</td> <td>   46.713</td> <td>   59.337</td>\n",
       "</tr>\n",
       "<tr>\n",
       "  <th>std_risk</th> <td>    1.0881</td> <td>    0.650</td> <td>    1.673</td> <td> 0.095</td> <td>   -0.188</td> <td>    2.364</td>\n",
       "</tr>\n",
       "</table>\n",
       "<table class=\"simpletable\">\n",
       "<tr>\n",
       "  <th>Omnibus:</th>       <td>1273.834</td> <th>  Durbin-Watson:     </th>  <td>   2.092</td> \n",
       "</tr>\n",
       "<tr>\n",
       "  <th>Prob(Omnibus):</th>  <td> 0.000</td>  <th>  Jarque-Bera (JB):  </th> <td>172796.182</td>\n",
       "</tr>\n",
       "<tr>\n",
       "  <th>Skew:</th>           <td> 5.325</td>  <th>  Prob(JB):          </th>  <td>    0.00</td> \n",
       "</tr>\n",
       "<tr>\n",
       "  <th>Kurtosis:</th>       <td>62.556</td>  <th>  Cond. No.          </th>  <td>    5.95</td> \n",
       "</tr>\n",
       "</table>"
      ],
      "text/plain": [
       "<class 'statsmodels.iolib.summary.Summary'>\n",
       "\"\"\"\n",
       "                            OLS Regression Results                            \n",
       "==============================================================================\n",
       "Dep. Variable:             ann_return   R-squared:                       0.002\n",
       "Model:                            OLS   Adj. R-squared:                  0.002\n",
       "Method:                 Least Squares   F-statistic:                     2.800\n",
       "Date:                Thu, 22 Nov 2018   Prob (F-statistic):             0.0946\n",
       "Time:                        07:49:28   Log-Likelihood:                -6718.9\n",
       "No. Observations:                1133   AIC:                         1.344e+04\n",
       "Df Residuals:                    1131   BIC:                         1.345e+04\n",
       "Df Model:                           1                                         \n",
       "Covariance Type:            nonrobust                                         \n",
       "==============================================================================\n",
       "                 coef    std err          t      P>|t|      [0.025      0.975]\n",
       "------------------------------------------------------------------------------\n",
       "const         53.0247      3.217     16.482      0.000      46.713      59.337\n",
       "std_risk       1.0881      0.650      1.673      0.095      -0.188       2.364\n",
       "==============================================================================\n",
       "Omnibus:                     1273.834   Durbin-Watson:                   2.092\n",
       "Prob(Omnibus):                  0.000   Jarque-Bera (JB):           172796.182\n",
       "Skew:                           5.325   Prob(JB):                         0.00\n",
       "Kurtosis:                      62.556   Cond. No.                         5.95\n",
       "==============================================================================\n",
       "\n",
       "Warnings:\n",
       "[1] Standard Errors assume that the covariance matrix of the errors is correctly specified.\n",
       "\"\"\""
      ]
     },
     "execution_count": 33,
     "metadata": {},
     "output_type": "execute_result"
    }
   ],
   "source": [
    "model3.summary()"
   ]
  },
  {
   "cell_type": "code",
   "execution_count": 34,
   "metadata": {},
   "outputs": [
    {
     "data": {
      "text/plain": [
       "1133"
      ]
     },
     "execution_count": 34,
     "metadata": {},
     "output_type": "execute_result"
    }
   ],
   "source": [
    "len(all_data)"
   ]
  }
 ],
 "metadata": {
  "kernelspec": {
   "display_name": "Python 3",
   "language": "python",
   "name": "python3"
  },
  "language_info": {
   "codemirror_mode": {
    "name": "ipython",
    "version": 3
   },
   "file_extension": ".py",
   "mimetype": "text/x-python",
   "name": "python",
   "nbconvert_exporter": "python",
   "pygments_lexer": "ipython3",
   "version": "3.6.3"
  }
 },
 "nbformat": 4,
 "nbformat_minor": 2
}
