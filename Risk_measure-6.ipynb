{
 "cells": [
  {
   "cell_type": "code",
   "execution_count": 29,
   "metadata": {
    "collapsed": true
   },
   "outputs": [],
   "source": [
    "import pandas as pd\n",
    "import numpy as np\n",
    "from pathlib import Path\n",
    "from os import listdir\n",
    "import statsmodels.api as sm"
   ]
  },
  {
   "cell_type": "code",
   "execution_count": 90,
   "metadata": {
    "collapsed": true,
    "scrolled": true
   },
   "outputs": [],
   "source": [
    "#path = \"/home/harshit/Project/Returns/2017/\"\n",
    "#entropy=pd.read_csv(path+\"continuous_entropy.csv\")"
   ]
  },
  {
   "cell_type": "code",
   "execution_count": 83,
   "metadata": {
    "collapsed": true
   },
   "outputs": [],
   "source": [
    "path = \"/home/harshit/Project/2017/\"\n",
    "entropy=pd.read_csv(path+\"entropy.csv\")"
   ]
  },
  {
   "cell_type": "code",
   "execution_count": 93,
   "metadata": {},
   "outputs": [],
   "source": [
    "entropy[\"ent_risk\"] = np.exp(entropy[\"Entropy\"])"
   ]
  },
  {
   "cell_type": "code",
   "execution_count": 94,
   "metadata": {
    "collapsed": true
   },
   "outputs": [],
   "source": [
    "data_path = \"/home/harshit/Project/2017/\"              # finding annual returns of all companies\n",
    "lis = pd.DataFrame(listdir(data_path),columns = [\"Symbol\"])\n",
    "df = pd.DataFrame(columns=[\"Symbol\",\"ann_return\"])\n",
    "\n",
    "for i in (lis[\"Symbol\"]):            \n",
    "    if i == \"renyi_entropy.csv\": continue\n",
    "    if i == \"entropy.csv\": continue\n",
    "    data = pd.read_csv(data_path+i)\n",
    "    name = i.split('.')[0]\n",
    "    last = data.iloc[-1][name]\n",
    "    first= data.iloc[0][name]\n",
    "    ann_ret = (last-first)*100/first\n",
    "    df2=pd.DataFrame([[name, ann_ret]],columns=[\"Symbol\",\"ann_return\"])\n",
    "    df = df.append(df2,ignore_index=True) # a frame having annual returns of all firms\n",
    "\n",
    "combined = pd.merge(df,entropy,on='Symbol')"
   ]
  },
  {
   "cell_type": "code",
   "execution_count": 95,
   "metadata": {
    "collapsed": true
   },
   "outputs": [],
   "source": [
    "#Using co-variance to find beta_risk measure\n",
    "factors = pd.read_csv(\"/home/harshit/Project/Returns/averages/FourFactors.csv\")\n",
    "\n",
    "eq_path = \"/home/harshit/Project/Returns/2017/\"\n",
    "lis = pd.DataFrame(listdir(eq_path),columns = [\"Symbol\"])    \n",
    "df = pd.DataFrame(columns=[\"Symbol\",\"beta_risk\"])\n",
    "for i in (lis[\"Symbol\"]):\n",
    "    if i == \"continuous_renyi_entropy.csv\": continue\n",
    "    if i == \"continuous_entropy.csv\": continue\n",
    "    equity = pd.read_csv(eq_path+i)\n",
    "    name = i.split(\".\")[0]\n",
    "    equity.Date = equity.Date.apply(lambda x: x.replace(\"-\",\"\"))\n",
    "    equity[\"Date\"] = equity[\"Date\"].apply(pd.to_numeric)\n",
    "    equity=equity.drop([0])\n",
    "    equity = pd.merge(factors,equity,on=\"Date\")\n",
    "    equity[\"R-Rf %\"] = equity[\"Return\"] - equity[\"Rf %\"]\n",
    "#beta risk = cov(rm-rf,r-rf)/var(rm-rf)\n",
    "\n",
    "    cov = np.sum((equity[\"R-Rf %\"]-np.mean(equity[\"R-Rf %\"]))*((equity[\"Rm-Rf %\"]-np.mean(equity[\"Rm-Rf %\"]))))/len(equity)\n",
    "    var = np.sum((equity[\"Rm-Rf %\"]-np.mean(equity[\"Rm-Rf %\"]))**2)/len(equity)\n",
    "    beta_risk = cov/var\n",
    "    df2 = pd.DataFrame([[name,beta_risk]],columns=[\"Symbol\",\"beta_risk\"])\n",
    "    df = df.append(df2,ignore_index=True)\n",
    "all_data = pd.merge(combined,df,on=\"Symbol\")"
   ]
  },
  {
   "cell_type": "code",
   "execution_count": 96,
   "metadata": {
    "collapsed": true
   },
   "outputs": [],
   "source": [
    "X1 = all_data[[\"beta_risk\"]]\n",
    "X1 = sm.add_constant(X1)\n",
    "y = all_data[[\"ann_return\"]]\n",
    "model1 = sm.OLS(y,X1,hasconst=True).fit()"
   ]
  },
  {
   "cell_type": "code",
   "execution_count": 97,
   "metadata": {
    "collapsed": true,
    "scrolled": true
   },
   "outputs": [],
   "source": [
    "X2 = all_data[[\"ent_risk\"]]\n",
    "X2 = sm.add_constant(X2)\n",
    "y = all_data[[\"ann_return\"]]\n",
    "model2 = sm.OLS(y,X2,hasconst=True).fit()"
   ]
  },
  {
   "cell_type": "code",
   "execution_count": 98,
   "metadata": {},
   "outputs": [
    {
     "data": {
      "text/html": [
       "<table class=\"simpletable\">\n",
       "<caption>OLS Regression Results</caption>\n",
       "<tr>\n",
       "  <th>Dep. Variable:</th>       <td>ann_return</td>    <th>  R-squared:         </th> <td>   0.002</td> \n",
       "</tr>\n",
       "<tr>\n",
       "  <th>Model:</th>                   <td>OLS</td>       <th>  Adj. R-squared:    </th> <td>   0.001</td> \n",
       "</tr>\n",
       "<tr>\n",
       "  <th>Method:</th>             <td>Least Squares</td>  <th>  F-statistic:       </th> <td>   2.365</td> \n",
       "</tr>\n",
       "<tr>\n",
       "  <th>Date:</th>             <td>Sat, 06 Oct 2018</td> <th>  Prob (F-statistic):</th>  <td> 0.124</td>  \n",
       "</tr>\n",
       "<tr>\n",
       "  <th>Time:</th>                 <td>02:40:41</td>     <th>  Log-Likelihood:    </th> <td> -6719.1</td> \n",
       "</tr>\n",
       "<tr>\n",
       "  <th>No. Observations:</th>      <td>  1133</td>      <th>  AIC:               </th> <td>1.344e+04</td>\n",
       "</tr>\n",
       "<tr>\n",
       "  <th>Df Residuals:</th>          <td>  1131</td>      <th>  BIC:               </th> <td>1.345e+04</td>\n",
       "</tr>\n",
       "<tr>\n",
       "  <th>Df Model:</th>              <td>     1</td>      <th>                     </th>     <td> </td>    \n",
       "</tr>\n",
       "<tr>\n",
       "  <th>Covariance Type:</th>      <td>nonrobust</td>    <th>                     </th>     <td> </td>    \n",
       "</tr>\n",
       "</table>\n",
       "<table class=\"simpletable\">\n",
       "<tr>\n",
       "      <td></td>        <th>coef</th>     <th>std err</th>      <th>t</th>      <th>P>|t|</th>  <th>[0.025</th>    <th>0.975]</th>  \n",
       "</tr>\n",
       "<tr>\n",
       "  <th>const</th>    <td>   53.4834</td> <td>    3.142</td> <td>   17.025</td> <td> 0.000</td> <td>   47.320</td> <td>   59.647</td>\n",
       "</tr>\n",
       "<tr>\n",
       "  <th>ent_risk</th> <td>    0.2563</td> <td>    0.167</td> <td>    1.538</td> <td> 0.124</td> <td>   -0.071</td> <td>    0.583</td>\n",
       "</tr>\n",
       "</table>\n",
       "<table class=\"simpletable\">\n",
       "<tr>\n",
       "  <th>Omnibus:</th>       <td>1274.236</td> <th>  Durbin-Watson:     </th>  <td>   2.092</td> \n",
       "</tr>\n",
       "<tr>\n",
       "  <th>Prob(Omnibus):</th>  <td> 0.000</td>  <th>  Jarque-Bera (JB):  </th> <td>172880.646</td>\n",
       "</tr>\n",
       "<tr>\n",
       "  <th>Skew:</th>           <td> 5.328</td>  <th>  Prob(JB):          </th>  <td>    0.00</td> \n",
       "</tr>\n",
       "<tr>\n",
       "  <th>Kurtosis:</th>       <td>62.570</td>  <th>  Cond. No.          </th>  <td>    21.9</td> \n",
       "</tr>\n",
       "</table>"
      ],
      "text/plain": [
       "<class 'statsmodels.iolib.summary.Summary'>\n",
       "\"\"\"\n",
       "                            OLS Regression Results                            \n",
       "==============================================================================\n",
       "Dep. Variable:             ann_return   R-squared:                       0.002\n",
       "Model:                            OLS   Adj. R-squared:                  0.001\n",
       "Method:                 Least Squares   F-statistic:                     2.365\n",
       "Date:                Sat, 06 Oct 2018   Prob (F-statistic):              0.124\n",
       "Time:                        02:40:41   Log-Likelihood:                -6719.1\n",
       "No. Observations:                1133   AIC:                         1.344e+04\n",
       "Df Residuals:                    1131   BIC:                         1.345e+04\n",
       "Df Model:                           1                                         \n",
       "Covariance Type:            nonrobust                                         \n",
       "==============================================================================\n",
       "                 coef    std err          t      P>|t|      [0.025      0.975]\n",
       "------------------------------------------------------------------------------\n",
       "const         53.4834      3.142     17.025      0.000      47.320      59.647\n",
       "ent_risk       0.2563      0.167      1.538      0.124      -0.071       0.583\n",
       "==============================================================================\n",
       "Omnibus:                     1274.236   Durbin-Watson:                   2.092\n",
       "Prob(Omnibus):                  0.000   Jarque-Bera (JB):           172880.646\n",
       "Skew:                           5.328   Prob(JB):                         0.00\n",
       "Kurtosis:                      62.570   Cond. No.                         21.9\n",
       "==============================================================================\n",
       "\n",
       "Warnings:\n",
       "[1] Standard Errors assume that the covariance matrix of the errors is correctly specified.\n",
       "\"\"\""
      ]
     },
     "execution_count": 98,
     "metadata": {},
     "output_type": "execute_result"
    }
   ],
   "source": [
    "model2.summary()"
   ]
  },
  {
   "cell_type": "code",
   "execution_count": null,
   "metadata": {
    "collapsed": true
   },
   "outputs": [],
   "source": []
  }
 ],
 "metadata": {
  "kernelspec": {
   "display_name": "Python 3",
   "language": "python",
   "name": "python3"
  },
  "language_info": {
   "codemirror_mode": {
    "name": "ipython",
    "version": 3
   },
   "file_extension": ".py",
   "mimetype": "text/x-python",
   "name": "python",
   "nbconvert_exporter": "python",
   "pygments_lexer": "ipython3",
   "version": "3.6.3"
  }
 },
 "nbformat": 4,
 "nbformat_minor": 2
}
