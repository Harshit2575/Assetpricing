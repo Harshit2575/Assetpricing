{
 "cells": [
  {
   "cell_type": "code",
   "execution_count": 113,
   "metadata": {},
   "outputs": [],
   "source": [
    "import pandas as pd\n",
    "import numpy as np\n",
    "from pathlib import Path\n",
    "from os import listdir\n",
    "import statsmodels.api as sm"
   ]
  },
  {
   "cell_type": "code",
   "execution_count": 92,
   "metadata": {},
   "outputs": [],
   "source": [
    "path = \"/home/harshit/Project/2017/\"\n",
    "entropy=pd.read_csv(path+\"entropy.csv\")"
   ]
  },
  {
   "cell_type": "code",
   "execution_count": 93,
   "metadata": {},
   "outputs": [],
   "source": [
    "entropy[\"ent_risk\"] = np.exp(entropy[\"Entropy\"])"
   ]
  },
  {
   "cell_type": "code",
   "execution_count": 107,
   "metadata": {},
   "outputs": [],
   "source": [
    "data_path = \"/home/harshit/Project/2017/\"\n",
    "lis = pd.DataFrame(listdir(data_path),columns = [\"Symbol\"])\n",
    "df = pd.DataFrame(columns=[\"Symbol\",\"ann_return\"])\n",
    "\n",
    "for i in (lis[\"Symbol\"]):            \n",
    "    name = i.split(\".\")[0]\n",
    "    if i == \"renyi_entropy.csv\": continue\n",
    "    if i == \"entropy.csv\": continue\n",
    "    data = pd.read_csv(data_path+i)\n",
    "    name = i.split('.')[0]\n",
    "    last = data.iloc[-1][name]\n",
    "    first= data.iloc[0][name]\n",
    "    ann_ret = (last-first)*100/first\n",
    "    df2=pd.DataFrame([[name, ann_ret]],columns=[\"Symbol\",\"ann_return\"])\n",
    "    df = df.append(df2,ignore_index=True) # a frame having annual returns of all firms\n",
    "\n",
    "combined = pd.merge(df,entropy,on='Symbol')"
   ]
  },
  {
   "cell_type": "code",
   "execution_count": 108,
   "metadata": {},
   "outputs": [],
   "source": [
    "#Using co-variance to find beta_risk measure\n",
    "factors = pd.read_csv(\"/home/harshit/Project/Returns/averages/FourFactors.csv\")\n",
    "\n",
    "eq_path = \"/home/harshit/Project/Returns/2017/\"\n",
    "lis = pd.DataFrame(listdir(eq_path),columns = [\"Symbol\"])    \n",
    "df = pd.DataFrame(columns=[\"Symbol\",\"beta_risk\"])\n",
    "for i in (lis[\"Symbol\"]):\n",
    "    equity = pd.read_csv(eq_path+i)\n",
    "    name = i.split(\".\")[0]\n",
    "    equity.Date = equity.Date.apply(lambda x: x.replace(\"-\",\"\"))\n",
    "    equity[\"Date\"] = equity[\"Date\"].apply(pd.to_numeric)\n",
    "    equity=equity.drop([0])\n",
    "    equity = pd.merge(factors,equity,on=\"Date\")\n",
    "    equity[\"R-Rf %\"] = equity[\"Return\"] - equity[\"Rf %\"]\n",
    "#beta risk = cov(rm-rf,r-rf)/var(rm-rf)\n",
    "\n",
    "    cov = np.sum((equity[\"R-Rf %\"]-np.mean(equity[\"R-Rf %\"]))*((equity[\"Rm-Rf %\"]-np.mean(equity[\"Rm-Rf %\"]))))/len(equity)\n",
    "    var = np.sum((equity[\"Rm-Rf %\"]-np.mean(equity[\"Rm-Rf %\"]))**2)/len(equity)\n",
    "    beta_risk = cov/var\n",
    "    df2 = pd.DataFrame([[name,beta_risk]],columns=[\"Symbol\",\"beta_risk\"])\n",
    "    df = df.append(df2,ignore_index=True)\n",
    "all_data = pd.merge(combined,df,on=\"Symbol\")"
   ]
  },
  {
   "cell_type": "code",
   "execution_count": 114,
   "metadata": {},
   "outputs": [],
   "source": [
    "X1 = all_data[[\"beta_risk\"]]\n",
    "y = all_data[[\"ann_return\"]]\n",
    "model1 = sm.OLS(y,X1,hasconst=True).fit()"
   ]
  },
  {
   "cell_type": "code",
   "execution_count": 115,
   "metadata": {
    "scrolled": true
   },
   "outputs": [],
   "source": [
    "X2 = all_data[[\"ent_risk\"]]\n",
    "y = all_data[[\"ann_return\"]]\n",
    "model2 = sm.OLS(y,X1,hasconst=True).fit()"
   ]
  },
  {
   "cell_type": "code",
   "execution_count": null,
   "metadata": {},
   "outputs": [],
   "source": []
  }
 ],
 "metadata": {
  "kernelspec": {
   "display_name": "Python 3",
   "language": "python",
   "name": "python3"
  },
  "language_info": {
   "codemirror_mode": {
    "name": "ipython",
    "version": 3
   },
   "file_extension": ".py",
   "mimetype": "text/x-python",
   "name": "python",
   "nbconvert_exporter": "python",
   "pygments_lexer": "ipython3",
   "version": "3.6.5"
  }
 },
 "nbformat": 4,
 "nbformat_minor": 2
}
