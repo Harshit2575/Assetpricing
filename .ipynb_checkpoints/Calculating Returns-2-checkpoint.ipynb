{
 "cells": [
  {
   "cell_type": "code",
   "execution_count": 14,
   "metadata": {},
   "outputs": [],
   "source": [
    "import pandas as pd\n",
    "import numpy as np\n",
    "from pathlib import Path\n",
    "from os import listdir"
   ]
  },
  {
   "cell_type": "code",
   "execution_count": 38,
   "metadata": {
    "scrolled": false
   },
   "outputs": [],
   "source": [
    "#Calculating and saving returns for various years#\n",
    "\n",
    "data_path = \"/home/harshit/Project/2017/\"\n",
    "lis = pd.DataFrame(listdir(data_path),columns = [\"Symbol\"])  #A list of all data files in a year\n",
    "return_path = \"/home/harshit/Project/Returns/2017/\"\n",
    "for i in (lis[\"Symbol\"]):\n",
    "    if i == \"renyi_entropy.csv\": continue\n",
    "    if i == \"entropy.csv\": continue\n",
    "    df2 = pd.DataFrame(columns=[\"Date\",\"Return\"])\n",
    "    data = pd.read_csv(data_path+i)\n",
    "    company = i.split('.')[0]\n",
    "    for j in range(len(data)):\n",
    "            date = data.iloc[j][\"Date\"]\n",
    "            previous = data.iloc[j-1][company]\n",
    "            new = data.iloc[j][company]\n",
    "            ret = ((previous-new)/previous)*100\n",
    "            df = pd.DataFrame([[date,ret]],columns=[\"Date\",\"Return\"])\n",
    "            df2 = df2.append(df,ignore_index=True)   # A DF having return data for whole year\n",
    "    df2.at[0, 'Return'] = 0\n",
    "    df2.to_csv(return_path+company+\".csv\",index=False)"
   ]
  },
  {
   "cell_type": "code",
   "execution_count": 51,
   "metadata": {},
   "outputs": [],
   "source": [
    "# Making single file for return of all companies   \n",
    "#Making Dataframe of list of companies\n",
    "ret_path = \"/home/harshit/Project/Returns/2017/\"                                   \n",
    "file = listdir(ret_path)\n",
    "file = pd.DataFrame(file,columns=[\"Name\"])\n",
    "\n",
    "#Combining to make single csv for return of all companies in a year\n",
    "combined = pd.read_csv(ret_path+file.iloc[0][\"Name\"])  \n",
    "name = file.iloc[0][\"Name\"]\n",
    "#combined=combined.drop(columns=[\"Unnamed: 0\"])\n",
    "combined.rename(columns={'Return':name}, inplace=True)\n",
    "combined[\"Date\"] = pd.to_datetime(combined[\"Date\"])\n",
    "for i in range(len(file)):\n",
    "    if i==0:\n",
    "        continue\n",
    "    name = file.iloc[i][\"Name\"]\n",
    "    data = pd.read_csv(ret_path+name)\n",
    "    #data=data.drop(columns=[\"Unnamed: 0\"])\n",
    "    data[\"Date\"] = pd.to_datetime(data[\"Date\"])\n",
    "    data.rename(columns={'Return':name}, inplace=True)\n",
    "    combined = pd.merge_asof(combined,data,on='Date')\n",
    "combined\n",
    "combined_path = \"/home/harshit/Project/Returns/combined/\"\n",
    "combined.to_csv(combined_path+\"combined2017.csv\",index=False)"
   ]
  },
  {
   "cell_type": "code",
   "execution_count": 60,
   "metadata": {},
   "outputs": [],
   "source": [
    "##################################################################################################################\n",
    "\n",
    "#Finding average returns of top and bottom 30 companies\n",
    "previous_entropy = pd.read_csv(\"/home/harshit/Project/2016/entropy.csv\") #reading previous_entropy list to select 30\n",
    "return_path = \"/home/harshit/Project/Returns/combined/\"\n",
    "returns = pd.read_csv(return_path+\"combined2017.csv\")\n",
    "date = pd.DataFrame(pd.to_datetime(returns[\"Date\"])) \n",
    "ret_ent = date\n",
    "for i in previous_entropy[\"Symbol\"]:\n",
    "    name = i+\".csv\"\n",
    "    if name in returns:                   # taking return of all firms present in entropy list and in next year\n",
    "        ret = pd.DataFrame(returns[i+\".csv\"])\n",
    "        ret = date.merge(ret,left_index=True, right_index=True)\n",
    "        ret_ent = pd.merge_asof(ret_ent,ret,on=\"Date\")\n",
    "# Selecting firms with highest and lowest entropies\n",
    "high_entropy = ret_ent.iloc[:,0:31]\n",
    "low_entropy = ret_ent.iloc[:,-30:]\n",
    "low_entropy = pd.merge(date,low_entropy,left_index=True,right_index=True)\n",
    "\n",
    "#Finding mean of low and high entropy firm returns\n",
    "high_mean = pd.DataFrame(high_entropy.mean(axis=1),columns=[\"high\"])\n",
    "low_mean = pd.DataFrame(low.mean(axis=1),columns=[\"low\"])\n",
    "avg= pd.merge(date,high_mean,right_index=True,left_index=True).merge(low_mean,right_index=True,left_index=True)\n",
    "\n",
    "#Finding difference of high and low entropy averages\n",
    "diff = pd.DataFrame(avg[\"high\"]-avg[\"low\"],columns=[\"high-low\"]) \n",
    "avg = pd.merge(avg,diff,right_index=True,left_index=True)\n",
    "avg_path = \"/home/harshit/Project/Returns/averages/\"\n",
    "avg.to_csv(avg_path+\"average2017.csv\",index=False)"
   ]
  },
  {
   "cell_type": "code",
   "execution_count": null,
   "metadata": {},
   "outputs": [],
   "source": []
  }
 ],
 "metadata": {
  "kernelspec": {
   "display_name": "Python 3",
   "language": "python",
   "name": "python3"
  },
  "language_info": {
   "codemirror_mode": {
    "name": "ipython",
    "version": 3
   },
   "file_extension": ".py",
   "mimetype": "text/x-python",
   "name": "python",
   "nbconvert_exporter": "python",
   "pygments_lexer": "ipython3",
   "version": "3.6.4"
  }
 },
 "nbformat": 4,
 "nbformat_minor": 2
}
