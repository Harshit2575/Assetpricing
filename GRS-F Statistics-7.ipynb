{
 "cells": [
  {
   "cell_type": "code",
   "execution_count": 1,
   "metadata": {},
   "outputs": [
    {
     "name": "stderr",
     "output_type": "stream",
     "text": [
      "/home/harshit/anaconda3/lib/python3.6/site-packages/statsmodels/compat/pandas.py:56: FutureWarning: The pandas.core.datetools module is deprecated and will be removed in a future version. Please use the pandas.tseries module instead.\n",
      "  from pandas.core import datetools\n"
     ]
    }
   ],
   "source": [
    "import numpy as np\n",
    "import pandas as pd\n",
    "from pathlib import Path\n",
    "import os\n",
    "import scipy.stats as ss\n",
    "import statsmodels.api as sm\n",
    "import pickle"
   ]
  },
  {
   "cell_type": "code",
   "execution_count": 25,
   "metadata": {},
   "outputs": [],
   "source": [
    "lis = pd.DataFrame(os.listdir(\"/home/harshit/Project/complete_models/5years/\"))\n",
    "coeff = pd.DataFrame(columns = [\"Symbol\",\"const\",\"SMB %\", \"HML %\",\"Rm-Rf %\", \"high-low\"] )\n",
    "#Making a dataframe of all coffecients\n",
    "for i in lis[0]:\n",
    "    data = open(\"/home/harshit/Project/complete_models/5years/\"+i,\"rb\")\n",
    "    symbol = i.split('.')[0]\n",
    "    model = pickle.load(data)\n",
    "    frame = pd.DataFrame(model.params).T\n",
    "    frame.insert(0,\"Symbol\",symbol)\n",
    "    coeff = coeff.append(frame,ignore_index=True,sort=False)\n",
    "    coeff= coeff[0:1200]\n",
    "intercept =pd.DataFrame(coeff['const'])"
   ]
  },
  {
   "cell_type": "code",
   "execution_count": 40,
   "metadata": {},
   "outputs": [],
   "source": [
    "all_factors= pd.read_csv(\"/home/harshit/Project/allfactors.csv\")"
   ]
  },
  {
   "cell_type": "code",
   "execution_count": 30,
   "metadata": {
    "collapsed": true
   },
   "outputs": [],
   "source": [
    "#Calculating residuals\n",
    "model_path = \"/home/harshit/Project/complete_models/5years/\"\n",
    "return_path = \"/home/harshit/Project/risk_free_ret/all_ret_by_company/\"\n",
    "mod = os.listdir(model_path)\n",
    "ret = os.listdir(return_path)\n",
    "residuals = pd.DataFrame(all_factors[\"Date\"])\n",
    "returns = pd.DataFrame(all_factors[\"Date\"])\n",
    "for i in coeff[\"Symbol\"]:\n",
    "    data = open(\"/home/harshit/Project/complete_models/5years/\"+i+\".sav\",\"rb\") # loading model\n",
    "    model = pickle.load(data)\n",
    "    equity = pd.read_csv(return_path+i+\".csv\")                       # loading daily Return data\n",
    "    all_data = pd.merge(all_factors,equity,on=\"Date\")\n",
    "    all_data.rename(columns={'Return':i}, inplace=True)\n",
    "    X= all_data[[\"SMB %\",\"HML %\",\"WML %\",\"Rm-Rf %\",\"high-low\"]] #Making X variable for entropy included model\n",
    "    X= sm.add_constant(X)\n",
    "    y = pd.DataFrame(all_data[i])\n",
    "    estimated = pd.DataFrame(model.predict(X),columns=[i])\n",
    "    return1 = y\n",
    "    residual = y - estimated\n",
    "    return1 = pd.merge(all_data[[\"Date\"]],return1,left_index=True,right_index=True)\n",
    "    residual= pd.merge(all_data[[\"Date\"]],residual,left_index=True, right_index=True)\n",
    "    residuals= pd.merge_asof(residuals,residual,on=\"Date\")\n",
    "    returns = pd.merge_asof(returns,return1,on=\"Date\")\n",
    "    residual.to_csv(\"/home/harshit/Project/residual/\"+i+\".csv\",index=False)\n",
    "#residuals.to_csv(\"/home/harshit/Project/residual/combined.csv\",index=False)\n",
    "\n",
    "    \n",
    "#residuals.reset_index(inplace=True)\n"
   ]
  },
  {
   "cell_type": "code",
   "execution_count": 38,
   "metadata": {
    "scrolled": false
   },
   "outputs": [
    {
     "data": {
      "text/plain": [
       "(1232, 1200)"
      ]
     },
     "execution_count": 38,
     "metadata": {},
     "output_type": "execute_result"
    }
   ],
   "source": [
    "residual_matrix = residuals.drop([\"Date\"],axis=1)"
   ]
  },
  {
   "cell_type": "code",
   "execution_count": 70,
   "metadata": {},
   "outputs": [
    {
     "data": {
      "text/plain": [
       "22"
      ]
     },
     "execution_count": 70,
     "metadata": {},
     "output_type": "execute_result"
    }
   ],
   "source": [
    "T=len(residual_matrix.index)      #Time set\n",
    "N = len(residual_matrix.columns) #No. of firms\n",
    "L = len(all_factors.columns)         #no. of factors  \n",
    "resi_cov=residual_matrix.cov()  #unbiased estimate of the covariance matrix of residuals"
   ]
  },
  {
   "cell_type": "code",
   "execution_count": 43,
   "metadata": {
    "collapsed": true,
    "scrolled": true
   },
   "outputs": [],
   "source": [
    "factor_path = \"/home/harshit/Project/allfactors.csv\"\n",
    "factors = pd.read_csv(factor_path)\n",
    "factors = factors[['SMB %','HML %','WML %','Rm-Rf %','high-low']]    \n",
    "mean_factors = pd.DataFrame(factors.mean(),columns = [\"Mean\"])  # Matrix of mean of factors\n",
    "factors_cov=factors.cov()                    #unbiasesd covariance of Factors"
   ]
  },
  {
   "cell_type": "code",
   "execution_count": 83,
   "metadata": {
    "scrolled": true
   },
   "outputs": [
    {
     "data": {
      "text/plain": [
       "1.9311863519578344e-58"
      ]
     },
     "execution_count": 83,
     "metadata": {},
     "output_type": "execute_result"
    }
   ],
   "source": [
    "resi_cov_inv= pd.DataFrame(np.linalg.pinv(resi_cov)) # inverse of residual matrix\n",
    "factors_cov_inv = pd.DataFrame(np.linalg.pinv(factors_cov))\n",
    "stat = (T/N)*(T-L-N/T-L-1)*(intercept.transpose().dot(resi_cov_inv).dot(intercept)) # numerator of stat\n",
    "stat = stat/(1+mean_factors.values.transpose().dot(factors_cov_inv).dot(mean_factors))\n",
    "stat\n",
    "ss.f.pdf(stat.iat[0,0],N,(T-N-L))      #p-value of f distribution"
   ]
  },
  {
   "cell_type": "code",
   "execution_count": null,
   "metadata": {},
   "outputs": [],
   "source": []
  }
 ],
 "metadata": {
  "kernelspec": {
   "display_name": "Python 3",
   "language": "python",
   "name": "python3"
  },
  "language_info": {
   "codemirror_mode": {
    "name": "ipython",
    "version": 3
   },
   "file_extension": ".py",
   "mimetype": "text/x-python",
   "name": "python",
   "nbconvert_exporter": "python",
   "pygments_lexer": "ipython3",
   "version": "3.6.3"
  }
 },
 "nbformat": 4,
 "nbformat_minor": 2
}
