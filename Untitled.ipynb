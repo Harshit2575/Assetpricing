{
 "cells": [
  {
   "cell_type": "code",
   "execution_count": 2,
   "metadata": {
    "collapsed": true
   },
   "outputs": [],
   "source": [
    "import pandas as pd\n",
    "import numpy as np\n",
    "from pathlib import Path\n",
    "from os import listdir"
   ]
  },
  {
   "cell_type": "code",
   "execution_count": 4,
   "metadata": {
    "collapsed": true
   },
   "outputs": [],
   "source": [
    "#Calculating and saving returns for various years#\n",
    "\n",
    "data_path = \"/home/harshit/Project/2015/\" #Daily closing prices data\n",
    "return_path = \"/home/harshit/Project/Returns/2015/\"\n",
    "risk_free_ret_path = \"/home/harshit/Project/risk_free_ret/2015/\"\n",
    "lis = pd.DataFrame(listdir(data_path),columns = [\"Symbol\"])  #A list of all data files in a year\n",
    "factors= pd.read_csv(\"/home/harshit/Project/allfactors.csv\")\n",
    "risk_free = factors[[\"Date\",\"Rf %\"]]\n",
    "for i in (lis[\"Symbol\"]):\n",
    "    if i == \"renyi_entropy.csv\": continue\n",
    "    if i == \"entropy.csv\": continue\n",
    "    df2 = pd.DataFrame(columns=[\"Date\",\"Return\"])\n",
    "    data = pd.read_csv(data_path+i)\n",
    "    company = i.split('.')[0]\n",
    "    for j in range(len(data)):\n",
    "            date = data.iloc[j][\"Date\"]\n",
    "            previous = data.iloc[j-1][company]\n",
    "            new = data.iloc[j][company]\n",
    "            ret = ((previous-new)/previous)*100\n",
    "            df = pd.DataFrame([[date,ret]],columns=[\"Date\",\"Return\"])\n",
    "            df2 = df2.append(df,ignore_index=True)   # A DF having return data for whole year\n",
    "    df2.at[0, 'Return'] = 0\n",
    "    df2.Date = df2.Date.apply(lambda x: x.replace(\"-\",\"\"))\n",
    "    df2[\"Date\"] = df2[\"Date\"].apply(pd.to_numeric)\n",
    "    df = pd.merge(df2,risk_free,on=\"Date\")\n",
    "    df[\"R-Rf\"] = df[\"Return\"]-df[\"Rf %\"]          # A data_frame having risk free return for the whole year\n",
    "    df=df.drop([\"Return\",\"Rf %\"],axis=1)\n",
    "    df.rename(columns={\"R-Rf\":'Return'}, inplace=True)\n",
    "    df.to_csv(risk_free_ret_path+company+\".csv\",index=False)\n",
    "#    df2.to_csv(return_path+company+\".csv\",index=False)"
   ]
  }
 ],
 "metadata": {
  "kernelspec": {
   "display_name": "Python 3",
   "language": "python",
   "name": "python3"
  },
  "language_info": {
   "codemirror_mode": {
    "name": "ipython",
    "version": 3
   },
   "file_extension": ".py",
   "mimetype": "text/x-python",
   "name": "python",
   "nbconvert_exporter": "python",
   "pygments_lexer": "ipython3",
   "version": "3.6.3"
  }
 },
 "nbformat": 4,
 "nbformat_minor": 2
}
