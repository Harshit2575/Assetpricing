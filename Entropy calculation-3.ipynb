{
 "cells": [
  {
   "cell_type": "code",
   "execution_count": 2,
   "metadata": {
    "collapsed": true
   },
   "outputs": [],
   "source": [
    "import pandas as pd\n",
    "import nsepy as ns\n",
    "from datetime import date\n",
    "from nsepy import get_history\n",
    "import numpy as np\n",
    "from pathlib import Path"
   ]
  },
  {
   "cell_type": "code",
   "execution_count": 3,
   "metadata": {
    "collapsed": true
   },
   "outputs": [],
   "source": [
    "df = pd.read_csv(\"/home/harshit/Project/sec bhavdata.csv\")"
   ]
  },
  {
   "cell_type": "code",
   "execution_count": 47,
   "metadata": {
    "collapsed": true
   },
   "outputs": [],
   "source": [
    "entropy = pd.DataFrame(columns=[\"Symbol\",\"Entropy\"])\n",
    "renyi_entropy = pd.DataFrame(columns=[\"Symbol\",\"Renyi_entropy\"])\n",
    "\n",
    "for i in range(len(df)):\n",
    "    symbol = df.iloc[i][\"Symbol\"]\n",
    "    path= \"/home/harshit/Project/Returns/2017/\"\n",
    "    address = Path(path+symbol+\".csv\")\n",
    "    if address.is_file():\n",
    "        equity = pd.read_csv(path+symbol+\".csv\")\n",
    "        maximum = max(equity[symbol])\n",
    "        freq_bins = np.arange(0,maximum+10, 10)\n",
    "        equity['range'] = pd.cut(equity[symbol], freq_bins)\n",
    "        count = equity['range'].value_counts()\n",
    "        prob = count/sum(count)\n",
    "        a=[x for x in prob.values if x!=0]\n",
    "        ent = -sum(a*np.log(a))  #shanon entropy\n",
    "        ent2 = -np.log(sum(np.square(a))) #renyi entropy\n",
    "        df2 = pd.DataFrame([[symbol,ent]],columns=[\"Symbol\",\"Entropy\"])\n",
    "        df3 = pd.DataFrame([[symbol,ent2]],columns=[\"Symbol\",\"Renyi_entropy\"])\n",
    "        entropy = entropy.append(df2,ignore_index=True)\n",
    "        renyi_entropy = renyi_entropy.append(df3,ignore_index=True)\n",
    "\n",
    "entropy = entropy.sort_values(\"Entropy\",ascending=0)  # making a sigle csv for all entropies\n",
    "renyi_entropy = renyi_entropy.sort_values(\"Renyi_entropy\",ascending=0)\n",
    "entropy.to_csv(path+\"entropy.csv\",index=False)\n",
    "renyi_entropy.to_csv(path+\"renyi_entropy.csv\", index=False)"
   ]
  }
 ],
 "metadata": {
  "kernelspec": {
   "display_name": "Python 3",
   "language": "python",
   "name": "python3"
  },
  "language_info": {
   "codemirror_mode": {
    "name": "ipython",
    "version": 3
   },
   "file_extension": ".py",
   "mimetype": "text/x-python",
   "name": "python",
   "nbconvert_exporter": "python",
   "pygments_lexer": "ipython3",
   "version": "3.6.3"
  }
 },
 "nbformat": 4,
 "nbformat_minor": 2
}
